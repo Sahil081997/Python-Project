{
 "cells": [
  {
   "cell_type": "code",
   "execution_count": null,
   "id": "46b24686",
   "metadata": {},
   "outputs": [],
   "source": [
    "from random import *\n",
    "def NumGuess():\n",
    "    try:\n",
    "        lower = int(input(\"Enter the number for lower bound\"))\n",
    "        upper = int(input(\"Enter the number for upper bound\"))\n",
    "        random = randint(lower, upper + 1)\n",
    "        attempt = int(input(\"Enter the Number of Guess You would like\"))\n",
    "        \n",
    "        while attempt > 0:\n",
    "            guess = int(input(\"Guess the correct number from the range\"))\n",
    "            if guess == random:\n",
    "                print(\"Congratulations! You Won. You have guessed the correct number\")\n",
    "                break\n",
    "            elif guess > random:\n",
    "                print(f\"Lower your guess and Try again. You have {attempt - 1} left\")\n",
    "                attempt -= 1\n",
    "                continue\n",
    "            elif guess < random:\n",
    "                print(f\"Higher your guess and Try again. You have {attempt - 1} left\")\n",
    "                attempt -= 1\n",
    "                continue\n",
    "        else:\n",
    "            print(\"You Lost the Guessing the Number Game\")\n",
    "    \n",
    "    except (ValueError,UnboundLocalError):\n",
    "        print(\"Please enter Integer's only\")"
   ]
  }
 ],
 "metadata": {
  "kernelspec": {
   "display_name": "Python 3 (ipykernel)",
   "language": "python",
   "name": "python3"
  },
  "language_info": {
   "codemirror_mode": {
    "name": "ipython",
    "version": 3
   },
   "file_extension": ".py",
   "mimetype": "text/x-python",
   "name": "python",
   "nbconvert_exporter": "python",
   "pygments_lexer": "ipython3",
   "version": "3.9.7"
  }
 },
 "nbformat": 4,
 "nbformat_minor": 5
}
